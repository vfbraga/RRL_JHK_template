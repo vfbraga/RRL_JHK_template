{
 "cells": [
  {
   "cell_type": "code",
   "execution_count": 1,
   "id": "cdd402bf",
   "metadata": {},
   "outputs": [],
   "source": [
    "import apply_RRL_JHK_templates\n",
    "import numpy as np\n",
    "import matplotlib.pyplot as plt"
   ]
  },
  {
   "cell_type": "code",
   "execution_count": 2,
   "id": "1a2356c7",
   "metadata": {},
   "outputs": [],
   "source": [
    "foldercoeff='/home/vittorioinaf/Documenti/Programmi/Python/Template_RRL_JHK_forgithub/coefficients/'\n",
    "foldertest='/home/vittorioinaf/Documenti/Programmi/Python/Template_RRL_JHK_forgithub/test/'"
   ]
  },
  {
   "cell_type": "markdown",
   "id": "735eabc2",
   "metadata": {},
   "source": [
    "## Case 1: One magnitude measurement available\n",
    "\n",
    "In this case, it is mandatory to know the full pulsation properties of the variable: Period, amplitude and epoch of reference. The templates are anchored to the epoch of mean magnitude on the rising branch ($t_{mean}^{ris}$) but we provide also a relation in case only the more classic epoch of maximum light was available ($t_{max}$)."
   ]
  },
  {
   "cell_type": "code",
   "execution_count": 3,
   "id": "189e12f8",
   "metadata": {},
   "outputs": [
    {
     "name": "stdout",
     "output_type": "stream",
     "text": [
      "Mean mag: 15.493+-0.019\n"
     ]
    }
   ],
   "source": [
    "pulsation_period = 0.59031000\n",
    "t0 = 2456423.8564 # Epoch of the mean magnitude on the rising branch\n",
    "pulsation_type = 0\n",
    "ampl = 0.5\n",
    "passband = 6\n",
    "\n",
    "hjd = np.asarray([2457116.7218])\n",
    "mag = np.asarray([15.6200])\n",
    "err = np.asarray([0.0140])\n",
    "phase = ((hjd - t0)/pulsation_period) % 1\n",
    "\n",
    "template_result = apply_RRL_JHK_templates.anchor_template(hjd, mag, err, pulsation_type,\n",
    "                pulsation_period, t0, passband, ampl, \n",
    "                foldercoeff, figure_out=foldertest+'test1.pdf')\n",
    "\n",
    "print('Mean mag: {:6.3f}+-{:5.3f}'.format(template_result['mean_mag_mean'], template_result['mean_mag_err']))"
   ]
  },
  {
   "cell_type": "markdown",
   "id": "5f8862f6",
   "metadata": {},
   "source": [
    "## Case 2: Two magnitude measurements available\n",
    "\n",
    "In this case, it is mandatory to know the full pulsation properties of the variable: Period, amplitude and epoch of reference. The templates are anchored to the epoch of mean magnitude on the rising branch ($t_{mean}^{ris}$) but we provide also a relation in case only the more classic epoch of maximum was available ($t_{max}$)."
   ]
  },
  {
   "cell_type": "code",
   "execution_count": 4,
   "id": "49db06c7",
   "metadata": {},
   "outputs": [
    {
     "name": "stdout",
     "output_type": "stream",
     "text": [
      "Mean mag: 15.420+-0.010\n"
     ]
    }
   ],
   "source": [
    "pulsation_period = 0.59031000\n",
    "t0 = 2456423.8564 # Epoch of the mean magnitude on the rising branch\n",
    "pulsation_type = 0\n",
    "ampl = 0.5\n",
    "passband = 6\n",
    "\n",
    "hjd = np.asarray([2457116.7218, 2456453.8418])\n",
    "mag = np.asarray([15.55, 15.5830])\n",
    "err = np.asarray([0.0140, 0.0130])\n",
    "phase = ((hjd - t0)/pulsation_period) % 1\n",
    "\n",
    "\n",
    "template_result = apply_RRL_JHK_templates.anchor_template(hjd, mag, err, pulsation_type,\n",
    "                pulsation_period, t0, passband, ampl, \n",
    "                foldercoeff, figure_out=foldertest+'test2.pdf')\n",
    "\n",
    "print('Mean mag: {:6.3f}+-{:5.3f}'.format(template_result['mean_mag_mean'], template_result['mean_mag_err']))"
   ]
  },
  {
   "cell_type": "markdown",
   "id": "fcec33d8",
   "metadata": {},
   "source": [
    "## Case 3: Three or more magnitude measurements available\n",
    "\n",
    "When three or more mag measurements are available for one target, it is possible to use the template not by anchoring it to a given epoch, but as a fitting function, leaving two free parameters: the phase displacement and the mean mag displacement. In this case, only Period, and amplitude are needed as previous knowledge. Note that the function apply_template_templfit_amplfixed takes as input t0, but this can be arbitrary and only affects visualization and not the results."
   ]
  },
  {
   "cell_type": "code",
   "execution_count": 5,
   "id": "3a237cb1",
   "metadata": {},
   "outputs": [
    {
     "name": "stdout",
     "output_type": "stream",
     "text": [
      "Mean mag: 15.334+-0.012\n"
     ]
    }
   ],
   "source": [
    "pulsation_period = 0.59031000\n",
    "t0 = 2456423.8564 # Epoch of the mean magnitude on the rising branch\n",
    "pulsation_type = 0\n",
    "ampl = 0.5\n",
    "passband = 6\n",
    "\n",
    "hjd = np.asarray([2457116.7218, 2457114.7496, 2457115.8305])\n",
    "mag = np.asarray([15.6200, 15.4260, 15.1980])\n",
    "err = np.asarray([0.0140, 0.0130, 0.0140])\n",
    "phase = ((hjd - t0)/pulsation_period) % 1\n",
    "\n",
    "template_result = apply_RRL_JHK_templates.apply_templatefit(hjd, mag, err,\n",
    "                                    pulsation_type, pulsation_period, t0, passband, \n",
    "                                    foldercoeff, free_amplitude=False, \n",
    "                                    ampl=ampl, \n",
    "                                    figure_out=foldertest+'test3.pdf')\n",
    "\n",
    "print('Mean mag: {:6.3f}+-{:5.3f}'.format(template_result['mag_mean'], template_result['errmag_mean']))"
   ]
  },
  {
   "cell_type": "markdown",
   "id": "1bb7cce7",
   "metadata": {},
   "source": [
    "## Case 4: Four or more magnitude measurements available\n",
    "\n",
    "When three or more mag measurements are available for one target, it is possible to use the template not by anchoring it to a given epoch, but as a fitting function, leaving three free parameters: the phase displacement, the mean mag displacement and the amplitude. In this case, only Period, is needed as previous knowledge."
   ]
  },
  {
   "cell_type": "code",
   "execution_count": 6,
   "id": "dcb83f70",
   "metadata": {},
   "outputs": [
    {
     "name": "stdout",
     "output_type": "stream",
     "text": [
      "Mean mag: 15.459+-0.011\n"
     ]
    }
   ],
   "source": [
    "pulsation_period = 0.59031000\n",
    "t0 = 2456423.8564 # Epoch of the mean magnitude on the rising branch\n",
    "pulsation_type = 0\n",
    "ampl = 0.5\n",
    "passband = 6\n",
    "\n",
    "hjd = np.asarray([2457116.7218, 2457114.7496, 2457115.8305, 2457116.8515])\n",
    "mag = np.asarray([15.6200, 15.4260, 15.1980, 15.6980])\n",
    "err = np.asarray([0.0140, 0.0130, 0.0140, 0.0140])\n",
    "phase = ((hjd - t0)/pulsation_period) % 1\n",
    "\n",
    "template_result = apply_RRL_JHK_templates.apply_templatefit(hjd, mag, err,\n",
    "                                    pulsation_type, pulsation_period, t0, passband, \n",
    "                                    foldercoeff, free_amplitude=True, \n",
    "                                    ampl=ampl, \n",
    "                                    figure_out=foldertest+'test4.pdf')\n",
    "\n",
    "print('Mean mag: {:6.3f}+-{:5.3f}'.format(template_result['mag_mean'], template_result['errmag_mean']))"
   ]
  },
  {
   "cell_type": "code",
   "execution_count": null,
   "id": "63b10c6c",
   "metadata": {},
   "outputs": [],
   "source": []
  }
 ],
 "metadata": {
  "kernelspec": {
   "display_name": "Python 3 (ipykernel)",
   "language": "python",
   "name": "python3"
  },
  "language_info": {
   "codemirror_mode": {
    "name": "ipython",
    "version": 3
   },
   "file_extension": ".py",
   "mimetype": "text/x-python",
   "name": "python",
   "nbconvert_exporter": "python",
   "pygments_lexer": "ipython3",
   "version": "3.8.10"
  }
 },
 "nbformat": 4,
 "nbformat_minor": 5
}
